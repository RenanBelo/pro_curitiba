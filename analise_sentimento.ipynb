{
 "cells": [
  {
   "cell_type": "code",
   "execution_count": 7,
   "id": "33f6ae79",
   "metadata": {},
   "outputs": [],
   "source": [
    "import json\n",
    "import nltk\n",
    "from nltk.sentiment import SentimentIntensityAnalyzer\n",
    "\n",
    "# carregar o arquivo JSON\n",
    "with open('locais.json', encoding='utf-8' ) as f:\n",
    "    data = json.load(f)\n",
    "\n",
    "# inicializar o analisador de sentimentos\n",
    "sia = SentimentIntensityAnalyzer()\n",
    "\n",
    "# iterar sobre cada restaurante\n",
    "for restaurante in data:\n",
    "    # iterar sobre cada avaliação\n",
    "    for avaliacao in restaurante['reviews']:\n",
    "        # obter o texto da avaliação\n",
    "        texto = avaliacao['content']\n",
    "        # tokenizar o texto\n",
    "        tokens = nltk.word_tokenize(texto)\n",
    "        # calcular o sentimento da avaliação\n",
    "        sentimento = sia.polarity_scores(texto)['compound']\n",
    "        # adicionar o sentimento à avaliação\n",
    "        avaliacao['sentimento'] = sentimento\n",
    "    \n",
    "    # adicionar o número de avaliações positivas, negativas e neutras\n",
    "    n_pos = len([a for a in restaurante['reviews'] if a['sentimento'] > 0])\n",
    "    n_neg = len([a for a in restaurante['reviews'] if a['sentimento'] < 0])\n",
    "    n_neu = len([a for a in restaurante['reviews'] if a['sentimento'] == 0])\n",
    "    restaurante['n_pos'] = n_pos\n",
    "    restaurante['n_neg'] = n_neg\n",
    "    restaurante['n_neu'] = n_neu\n",
    "    \n",
    "        # adicionar o sentimento geral do restaurante\n",
    "    total_sentimento = sum([a['sentimento'] for a in restaurante['reviews']])\n",
    "    if len(restaurante['reviews']) > 0:\n",
    "        sentimento_medio = total_sentimento / len(restaurante['reviews'])\n",
    "    else:\n",
    "        sentimento_medio = 0 # ou \"sem classificação\"\n",
    "    restaurante['sentimento_medio'] = sentimento_medio\n",
    "\n",
    "    \n",
    "# salvar o arquivo JSON modificado\n",
    "with open('restaurante_meu.json', 'w', encoding='utf-8') as f:\n",
    "    json.dump(data, f,  indent=2, ensure_ascii=False)\n"
   ]
  },
  {
   "cell_type": "code",
   "execution_count": null,
   "id": "c3981f4a",
   "metadata": {},
   "outputs": [],
   "source": []
  }
 ],
 "metadata": {
  "kernelspec": {
   "display_name": "Python 3 (ipykernel)",
   "language": "python",
   "name": "python3"
  },
  "language_info": {
   "codemirror_mode": {
    "name": "ipython",
    "version": 3
   },
   "file_extension": ".py",
   "mimetype": "text/x-python",
   "name": "python",
   "nbconvert_exporter": "python",
   "pygments_lexer": "ipython3",
   "version": "3.9.13"
  }
 },
 "nbformat": 4,
 "nbformat_minor": 5
}
