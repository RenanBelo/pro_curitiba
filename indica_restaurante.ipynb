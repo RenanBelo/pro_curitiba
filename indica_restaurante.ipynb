{
 "cells": [
  {
   "cell_type": "code",
   "execution_count": 3,
   "id": "39b7b82e",
   "metadata": {
    "scrolled": true
   },
   "outputs": [
    {
     "name": "stdout",
     "output_type": "stream",
     "text": [
      "Digite uma palavra ou frase relacionada à sua preferência de restaurante: japonesa\n",
      "O feedback do usuário é neutro.\n",
      "Recomendamos os seguintes restaurantes:\n",
      "Keiji Sushibar - Avaliação: 4,5  - Endereço: Rua Dr. Roberto Barroso, 1501. Merces, Curitiba, Paraná Brasil\n",
      "Hai Yo - Avaliação: 5,0  - Endereço: Rua Visconde de Nácar, 1424 Grand Hotel Rayon, Curitiba, Paraná 80410-201 Brasil\n",
      "Ponto Quilo Grill - Avaliação: 4,5  - Endereço: Rua Padre Anchieta 1742 Na altura do tubo da Bruno Filgueira, Curitiba, Paraná 80730-000 Brasil\n",
      "Dussin - Avaliação: 4,5  - Endereço: Rua Brigadeiro Franco 2300 Shopping Curitiba, Curitiba, Paraná 80250-903 Brasil\n",
      "Tatibana Japanese Cuisine - Avaliação: 4,0  - Endereço: Rua Pasteur, 106 Batel, Curitiba, Paraná 80250-080 Brasil\n",
      "Restaurante Nakaba - Avaliação: 4,0  - Endereço: Avenue Vicente Machado 2121, Curitiba, Paraná 80440-020 Brasil\n",
      "Taisho Batel - Avaliação: 4,0  - Endereço: Rua Comendador Araujo, 1066, Curitiba, Paraná 80420-000 Brasil\n"
     ]
    }
   ],
   "source": [
    "import json\n",
    "from textblob import TextBlob\n",
    "\n",
    "# Carregando o JSON em uma variável\n",
    "with open(\"restaurante_meu.json\", encoding='utf-8') as f:\n",
    "    dados = json.load(f)\n",
    "\n",
    "# Definindo a frase ou palavra do usuário\n",
    "feedback = input(\"Digite uma palavra ou frase relacionada à sua preferência de restaurante: \")\n",
    "\n",
    "# Realizando análise de sentimentos\n",
    "sentimento = TextBlob(feedback).sentiment.polarity\n",
    "if sentimento > 0:\n",
    "    print(\"O feedback do usuário é positivo.\")\n",
    "elif sentimento == 0:\n",
    "    print(\"O feedback do usuário é neutro.\")\n",
    "else:\n",
    "    print(\"O feedback do usuário é negativo.\")\n",
    "\n",
    "# Recomendação de restaurantes\n",
    "recomendados = []\n",
    "for restaurante in dados:\n",
    "    for review in restaurante[\"reviews\"]:\n",
    "        if any(palavra in review[\"content\"].lower() for palavra in feedback.split()):\n",
    "            recomendados.append(restaurante)\n",
    "            break\n",
    "\n",
    "# Apresentando a recomendação\n",
    "if recomendados:\n",
    "    print(\"Recomendamos os seguintes restaurantes:\")\n",
    "    for restaurante in recomendados:\n",
    "        print(restaurante[\"name\"] + \"\\n- Avaliação: \" + restaurante[\"average_rating\"] + \"\\n- Endereço: \" + restaurante[\"address\"] + \"\\n\")\n",
    "else:\n",
    "    print(\"Não encontramos nenhum restaurante que atenda às suas preferências.\")\n"
   ]
  },
  {
   "cell_type": "code",
   "execution_count": null,
   "id": "83d443ee",
   "metadata": {},
   "outputs": [],
   "source": [
    "cuzinho\n"
   ]
  },
  {
   "cell_type": "code",
   "execution_count": 3,
   "id": "85cfbcb3",
   "metadata": {},
   "outputs": [
    {
     "name": "stderr",
     "output_type": "stream",
     "text": [
      "ERROR: Could not find a version that satisfies the requirement textblob.packages (from versions: none)\n",
      "ERROR: No matching distribution found for textblob.packages\n"
     ]
    }
   ],
   "source": [
    "!pip install textblob.packages"
   ]
  },
  {
   "cell_type": "code",
   "execution_count": null,
   "id": "0ca2e72a",
   "metadata": {},
   "outputs": [],
   "source": []
  },
  {
   "cell_type": "markdown",
   "id": "daeadc1d",
   "metadata": {},
   "source": []
  }
 ],
 "metadata": {
  "kernelspec": {
   "display_name": "Python 3 (ipykernel)",
   "language": "python",
   "name": "python3"
  },
  "language_info": {
   "codemirror_mode": {
    "name": "ipython",
    "version": 3
   },
   "file_extension": ".py",
   "mimetype": "text/x-python",
   "name": "python",
   "nbconvert_exporter": "python",
   "pygments_lexer": "ipython3",
   "version": "3.9.13"
  }
 },
 "nbformat": 4,
 "nbformat_minor": 5
}
